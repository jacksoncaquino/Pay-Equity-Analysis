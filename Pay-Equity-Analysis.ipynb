{
 "cells": [
  {
   "cell_type": "markdown",
   "metadata": {},
   "source": [
    "# Pay Equity Analisys "
   ]
  },
  {
   "cell_type": "markdown",
   "metadata": {},
   "source": [
    "## Importing Data"
   ]
  },
  {
   "cell_type": "markdown",
   "metadata": {},
   "source": [
    "Please note that the dataset below is artificial and is not based on any real organization, even though it was created to reflect the same types of columns we would find in a roster from an organization."
   ]
  },
  {
   "cell_type": "code",
   "execution_count": 96,
   "metadata": {},
   "outputs": [],
   "source": [
    "import pandas"
   ]
  },
  {
   "cell_type": "code",
   "execution_count": 97,
   "metadata": {},
   "outputs": [],
   "source": [
    "df = pandas.read_csv(\"dummy data.csv\")"
   ]
  },
  {
   "cell_type": "code",
   "execution_count": 98,
   "metadata": {},
   "outputs": [
    {
     "data": {
      "text/plain": [
       "2904141095.0682545"
      ]
     },
     "execution_count": 98,
     "metadata": {},
     "output_type": "execute_result"
    }
   ],
   "source": [
    "df['Salary'].sum()"
   ]
  },
  {
   "cell_type": "code",
   "execution_count": 99,
   "metadata": {},
   "outputs": [
    {
     "data": {
      "text/html": [
       "<div>\n",
       "<style scoped>\n",
       "    .dataframe tbody tr th:only-of-type {\n",
       "        vertical-align: middle;\n",
       "    }\n",
       "\n",
       "    .dataframe tbody tr th {\n",
       "        vertical-align: top;\n",
       "    }\n",
       "\n",
       "    .dataframe thead th {\n",
       "        text-align: right;\n",
       "    }\n",
       "</style>\n",
       "<table border=\"1\" class=\"dataframe\">\n",
       "  <thead>\n",
       "    <tr style=\"text-align: right;\">\n",
       "      <th></th>\n",
       "      <th>Gender</th>\n",
       "      <th>Tenure</th>\n",
       "      <th>Job Family</th>\n",
       "      <th>State</th>\n",
       "      <th>Salary</th>\n",
       "      <th>Race</th>\n",
       "      <th>Performance rating</th>\n",
       "    </tr>\n",
       "  </thead>\n",
       "  <tbody>\n",
       "    <tr>\n",
       "      <th>0</th>\n",
       "      <td>Female</td>\n",
       "      <td>12</td>\n",
       "      <td>Engineering</td>\n",
       "      <td>CA</td>\n",
       "      <td>44301.47660</td>\n",
       "      <td>Black</td>\n",
       "      <td>5</td>\n",
       "    </tr>\n",
       "    <tr>\n",
       "      <th>1</th>\n",
       "      <td>Male</td>\n",
       "      <td>2</td>\n",
       "      <td>Engineering</td>\n",
       "      <td>CA</td>\n",
       "      <td>78632.46920</td>\n",
       "      <td>White</td>\n",
       "      <td>3</td>\n",
       "    </tr>\n",
       "    <tr>\n",
       "      <th>2</th>\n",
       "      <td>Female</td>\n",
       "      <td>17</td>\n",
       "      <td>Engineering</td>\n",
       "      <td>TX</td>\n",
       "      <td>79379.20000</td>\n",
       "      <td>White</td>\n",
       "      <td>2</td>\n",
       "    </tr>\n",
       "    <tr>\n",
       "      <th>3</th>\n",
       "      <td>Female</td>\n",
       "      <td>25</td>\n",
       "      <td>Legal</td>\n",
       "      <td>CA</td>\n",
       "      <td>87761.08000</td>\n",
       "      <td>White</td>\n",
       "      <td>2</td>\n",
       "    </tr>\n",
       "    <tr>\n",
       "      <th>4</th>\n",
       "      <td>Male</td>\n",
       "      <td>6</td>\n",
       "      <td>Engineering</td>\n",
       "      <td>TX</td>\n",
       "      <td>48013.70233</td>\n",
       "      <td>White</td>\n",
       "      <td>4</td>\n",
       "    </tr>\n",
       "  </tbody>\n",
       "</table>\n",
       "</div>"
      ],
      "text/plain": [
       "   Gender  Tenure   Job Family State       Salary   Race  Performance rating\n",
       "0  Female      12  Engineering    CA  44301.47660  Black                   5\n",
       "1    Male       2  Engineering    CA  78632.46920  White                   3\n",
       "2  Female      17  Engineering    TX  79379.20000  White                   2\n",
       "3  Female      25        Legal    CA  87761.08000  White                   2\n",
       "4    Male       6  Engineering    TX  48013.70233  White                   4"
      ]
     },
     "execution_count": 99,
     "metadata": {},
     "output_type": "execute_result"
    }
   ],
   "source": [
    "df.head()"
   ]
  },
  {
   "cell_type": "markdown",
   "metadata": {},
   "source": [
    "## Calculating some statistics"
   ]
  },
  {
   "cell_type": "code",
   "execution_count": 100,
   "metadata": {},
   "outputs": [],
   "source": [
    "def median_by_demographics(thedataframe, dem):\n",
    "    demographic = thedataframe[dem].unique()\n",
    "    print('Median Salaries by',dem)\n",
    "    for thisDem in demographic:\n",
    "        tempdf = thedataframe[thedataframe[dem]==thisDem]\n",
    "        print(thisDem, ':', tempdf['Salary'].median())"
   ]
  },
  {
   "cell_type": "code",
   "execution_count": 101,
   "metadata": {},
   "outputs": [
    {
     "name": "stdout",
     "output_type": "stream",
     "text": [
      "Median Salaries by Race\n",
      "Black : 56890.847255\n",
      "White : 62924.3433\n",
      "Hispanic : 61801.79\n",
      "Other : 61834.0275\n",
      "Asian : 62551.73\n"
     ]
    }
   ],
   "source": [
    "median_by_demographics(df,'Race')"
   ]
  },
  {
   "cell_type": "code",
   "execution_count": 102,
   "metadata": {},
   "outputs": [
    {
     "name": "stdout",
     "output_type": "stream",
     "text": [
      "Median Salaries by Gender\n",
      "Female : 60051.85\n",
      "Male : 63116.4353\n"
     ]
    }
   ],
   "source": [
    "median_by_demographics(df,'Gender')"
   ]
  },
  {
   "cell_type": "markdown",
   "metadata": {},
   "source": [
    "In this case, looking at the medians, it looks like Males are being paid more than Females and Whites are making a little more than the rest of the races, especially blacks."
   ]
  },
  {
   "cell_type": "markdown",
   "metadata": {},
   "source": [
    "## Checking to see if the differences are statistically significant"
   ]
  },
  {
   "cell_type": "markdown",
   "metadata": {},
   "source": [
    "### Males vs Females"
   ]
  },
  {
   "cell_type": "code",
   "execution_count": 103,
   "metadata": {},
   "outputs": [
    {
     "name": "stdout",
     "output_type": "stream",
     "text": [
      "Percent Males: 0.6672231854277703\n",
      "Percent Females: 0.33277681457222974\n",
      "Total number of employees: 46719\n",
      "Number of employees less than or equal to median: 23360\n",
      "Number of employees greater than median: 23359\n",
      "Expected number of females less than or equal to median: 7773.666388407287\n",
      "Observed number of females less than or equal to median: 8598\n",
      "Expected number of females greater than median: 7773.333611592714\n",
      "Observed number of females greater than median: 6949\n",
      "Expected number of Males less than or equal to median: 15586.333611592714\n",
      "Observed number of Males less than or equal to median: 14762\n",
      "Expected number of Males greater than median: 15585.666388407286\n",
      "Observed number of Males greater than median: 16410\n"
     ]
    }
   ],
   "source": [
    "median_salary = df['Salary'].median()\n",
    "percMales = len(df[df['Gender']=='Male'])/len(df)\n",
    "percFemales = len(df[df['Gender']=='Female'])/len(df)\n",
    "TotalHC = len(df)\n",
    "le_median = len(df[df['Salary'] <= median_salary])\n",
    "gt_median = len(df[df['Salary'] > median_salary])\n",
    "exp_F_le_median = percFemales * le_median\n",
    "exp_F_gt_median = percFemales * gt_median\n",
    "exp_M_le_median = percMales * le_median\n",
    "exp_M_gt_median = percMales * gt_median\n",
    "obs_F_le_median = len(df[(df['Gender']=='Female') & (df['Salary'] <= median_salary)])\n",
    "obs_F_gt_median = len(df[(df['Gender']=='Female') & (df['Salary'] > median_salary)])\n",
    "obs_M_le_median = len(df[(df['Gender']=='Male') & (df['Salary'] <= median_salary)])\n",
    "obs_M_gt_median = len(df[(df['Gender']=='Male') & (df['Salary'] > median_salary)])\n",
    "print('Percent Males:',percMales)\n",
    "print('Percent Females:',percFemales)\n",
    "print('Total number of employees:', TotalHC)\n",
    "print('Number of employees less than or equal to median:', le_median)\n",
    "print('Number of employees greater than median:', gt_median)\n",
    "print('Expected number of females less than or equal to median:', exp_F_le_median)\n",
    "print('Observed number of females less than or equal to median:', obs_F_le_median)\n",
    "print('Expected number of females greater than median:',exp_F_gt_median)\n",
    "print('Observed number of females greater than median:',obs_F_gt_median)\n",
    "print('Expected number of Males less than or equal to median:', exp_M_le_median)\n",
    "print('Observed number of Males less than or equal to median:', obs_M_le_median)\n",
    "print('Expected number of Males greater than median:',exp_M_gt_median)\n",
    "print('Observed number of Males greater than median:',obs_M_gt_median)"
   ]
  },
  {
   "cell_type": "code",
   "execution_count": 104,
   "metadata": {},
   "outputs": [],
   "source": [
    "import scipy"
   ]
  },
  {
   "cell_type": "code",
   "execution_count": 105,
   "metadata": {},
   "outputs": [
    {
     "data": {
      "text/plain": [
       "Power_divergenceResult(statistic=262.028348856098, pvalue=1.6369267442434444e-56)"
      ]
     },
     "execution_count": 105,
     "metadata": {},
     "output_type": "execute_result"
    }
   ],
   "source": [
    "expected = [exp_F_le_median,exp_F_gt_median,exp_M_le_median,exp_M_gt_median]\n",
    "observed = [obs_F_le_median,obs_F_gt_median,obs_M_le_median,obs_M_gt_median]\n",
    "scipy.stats.chisquare(f_obs=observed,f_exp=expected)"
   ]
  },
  {
   "cell_type": "markdown",
   "metadata": {},
   "source": [
    "With a pvalue of basically 0%, we can say there is compensation discrimination against females in this fictitious organization, and that it is statistically significant."
   ]
  },
  {
   "cell_type": "markdown",
   "metadata": {},
   "source": [
    "### Whites vs other races"
   ]
  },
  {
   "cell_type": "code",
   "execution_count": 106,
   "metadata": {},
   "outputs": [],
   "source": [
    "import numpy"
   ]
  },
  {
   "cell_type": "code",
   "execution_count": 107,
   "metadata": {},
   "outputs": [],
   "source": [
    "df['Position'] = numpy.where(df['Salary'] > median_salary,'Greater than Median','Below or at median')\n"
   ]
  },
  {
   "cell_type": "code",
   "execution_count": 108,
   "metadata": {},
   "outputs": [
    {
     "data": {
      "text/html": [
       "<div>\n",
       "<style scoped>\n",
       "    .dataframe tbody tr th:only-of-type {\n",
       "        vertical-align: middle;\n",
       "    }\n",
       "\n",
       "    .dataframe tbody tr th {\n",
       "        vertical-align: top;\n",
       "    }\n",
       "\n",
       "    .dataframe thead th {\n",
       "        text-align: right;\n",
       "    }\n",
       "</style>\n",
       "<table border=\"1\" class=\"dataframe\">\n",
       "  <thead>\n",
       "    <tr style=\"text-align: right;\">\n",
       "      <th></th>\n",
       "      <th>Gender</th>\n",
       "      <th>Tenure</th>\n",
       "      <th>Job Family</th>\n",
       "      <th>State</th>\n",
       "      <th>Salary</th>\n",
       "      <th>Race</th>\n",
       "      <th>Performance rating</th>\n",
       "      <th>Position</th>\n",
       "    </tr>\n",
       "  </thead>\n",
       "  <tbody>\n",
       "    <tr>\n",
       "      <th>0</th>\n",
       "      <td>Female</td>\n",
       "      <td>12</td>\n",
       "      <td>Engineering</td>\n",
       "      <td>CA</td>\n",
       "      <td>44301.47660</td>\n",
       "      <td>Black</td>\n",
       "      <td>5</td>\n",
       "      <td>Below or at median</td>\n",
       "    </tr>\n",
       "    <tr>\n",
       "      <th>1</th>\n",
       "      <td>Male</td>\n",
       "      <td>2</td>\n",
       "      <td>Engineering</td>\n",
       "      <td>CA</td>\n",
       "      <td>78632.46920</td>\n",
       "      <td>White</td>\n",
       "      <td>3</td>\n",
       "      <td>Greater than Median</td>\n",
       "    </tr>\n",
       "    <tr>\n",
       "      <th>2</th>\n",
       "      <td>Female</td>\n",
       "      <td>17</td>\n",
       "      <td>Engineering</td>\n",
       "      <td>TX</td>\n",
       "      <td>79379.20000</td>\n",
       "      <td>White</td>\n",
       "      <td>2</td>\n",
       "      <td>Greater than Median</td>\n",
       "    </tr>\n",
       "    <tr>\n",
       "      <th>3</th>\n",
       "      <td>Female</td>\n",
       "      <td>25</td>\n",
       "      <td>Legal</td>\n",
       "      <td>CA</td>\n",
       "      <td>87761.08000</td>\n",
       "      <td>White</td>\n",
       "      <td>2</td>\n",
       "      <td>Greater than Median</td>\n",
       "    </tr>\n",
       "    <tr>\n",
       "      <th>4</th>\n",
       "      <td>Male</td>\n",
       "      <td>6</td>\n",
       "      <td>Engineering</td>\n",
       "      <td>TX</td>\n",
       "      <td>48013.70233</td>\n",
       "      <td>White</td>\n",
       "      <td>4</td>\n",
       "      <td>Below or at median</td>\n",
       "    </tr>\n",
       "  </tbody>\n",
       "</table>\n",
       "</div>"
      ],
      "text/plain": [
       "   Gender  Tenure   Job Family State       Salary   Race  Performance rating  \\\n",
       "0  Female      12  Engineering    CA  44301.47660  Black                   5   \n",
       "1    Male       2  Engineering    CA  78632.46920  White                   3   \n",
       "2  Female      17  Engineering    TX  79379.20000  White                   2   \n",
       "3  Female      25        Legal    CA  87761.08000  White                   2   \n",
       "4    Male       6  Engineering    TX  48013.70233  White                   4   \n",
       "\n",
       "              Position  \n",
       "0   Below or at median  \n",
       "1  Greater than Median  \n",
       "2  Greater than Median  \n",
       "3  Greater than Median  \n",
       "4   Below or at median  "
      ]
     },
     "execution_count": 108,
     "metadata": {},
     "output_type": "execute_result"
    }
   ],
   "source": [
    "df.head()"
   ]
  },
  {
   "cell_type": "code",
   "execution_count": 109,
   "metadata": {},
   "outputs": [],
   "source": [
    "races_observed = pandas.pivot_table(df,index='Position',values='Gender',aggfunc='count',columns='Race').to_numpy()"
   ]
  },
  {
   "cell_type": "code",
   "execution_count": 110,
   "metadata": {},
   "outputs": [
    {
     "data": {
      "text/plain": [
       "array([[ 2305,  2950,  2310,  2331, 13464],\n",
       "       [ 2440,  1676,  2252,  2278, 14713]], dtype=int64)"
      ]
     },
     "execution_count": 110,
     "metadata": {},
     "output_type": "execute_result"
    }
   ],
   "source": [
    "races_observed"
   ]
  },
  {
   "cell_type": "code",
   "execution_count": 111,
   "metadata": {},
   "outputs": [],
   "source": [
    "expecteddf = pandas.pivot_table(df,index='Position',values='Gender',aggfunc='count',columns='Race')"
   ]
  },
  {
   "cell_type": "code",
   "execution_count": 112,
   "metadata": {},
   "outputs": [],
   "source": [
    "races_expected_below = []\n",
    "races_expected_above = []\n",
    "for race in expecteddf.columns:\n",
    "    races_expected_below.append((len(df[df['Race']==race])/len(df))*le_median)\n",
    "    races_expected_above.append((len(df[df['Race']==race])/len(df))*gt_median)    "
   ]
  },
  {
   "cell_type": "code",
   "execution_count": 113,
   "metadata": {},
   "outputs": [],
   "source": [
    "races_expected_list = [races_expected_below,races_expected_above]"
   ]
  },
  {
   "cell_type": "code",
   "execution_count": 114,
   "metadata": {},
   "outputs": [
    {
     "data": {
      "text/plain": [
       "Power_divergenceResult(statistic=411.41154910756296, pvalue=5.0263390197107356e-83)"
      ]
     },
     "execution_count": 114,
     "metadata": {},
     "output_type": "execute_result"
    }
   ],
   "source": [
    "scipy.stats.chisquare(f_obs=races_observed,f_exp=races_expected_list,axis=None)"
   ]
  },
  {
   "cell_type": "markdown",
   "metadata": {},
   "source": [
    "Again, with a low P-value, we can say that the differences in salaries among races are statistically significant."
   ]
  },
  {
   "cell_type": "markdown",
   "metadata": {},
   "source": [
    "With both issues being statistically significant, an investigator would ask the employer for explanations about why males are being better paid than females and why whites are being paid more than the other races. If the employer presents more information, the investigator can perform more sophisticated statistical analysis."
   ]
  },
  {
   "cell_type": "markdown",
   "metadata": {},
   "source": [
    "## Regression analysis to determine if tenure and performance would help us explain the gaps"
   ]
  },
  {
   "cell_type": "code",
   "execution_count": 115,
   "metadata": {},
   "outputs": [
    {
     "name": "stdout",
     "output_type": "stream",
     "text": [
      "                            OLS Regression Results                            \n",
      "==============================================================================\n",
      "Dep. Variable:                 Salary   R-squared:                       0.009\n",
      "Model:                            OLS   Adj. R-squared:                  0.009\n",
      "Method:                 Least Squares   F-statistic:                     143.1\n",
      "Date:                Fri, 24 May 2024   Prob (F-statistic):           2.53e-92\n",
      "Time:                        23:36:54   Log-Likelihood:            -5.1813e+05\n",
      "No. Observations:               46719   AIC:                         1.036e+06\n",
      "Df Residuals:                   46715   BIC:                         1.036e+06\n",
      "Df Model:                           3                                         \n",
      "Covariance Type:            nonrobust                                         \n",
      "======================================================================================\n",
      "                         coef    std err          t      P>|t|      [0.025      0.975]\n",
      "--------------------------------------------------------------------------------------\n",
      "const               6.024e+04    240.484    250.491      0.000    5.98e+04    6.07e+04\n",
      "Performance rating   -40.1787     52.113     -0.771      0.441    -142.321      61.964\n",
      "Tenure                -7.0744      8.764     -0.807      0.420     -24.252      10.103\n",
      "Gender              3222.1303    155.711     20.693      0.000    2916.934    3527.327\n",
      "==============================================================================\n",
      "Omnibus:                       15.659   Durbin-Watson:                   2.001\n",
      "Prob(Omnibus):                  0.000   Jarque-Bera (JB):               15.671\n",
      "Skew:                           0.042   Prob(JB):                     0.000395\n",
      "Kurtosis:                       3.030   Cond. No.                         60.7\n",
      "==============================================================================\n",
      "\n",
      "Notes:\n",
      "[1] Standard Errors assume that the covariance matrix of the errors is correctly specified.\n"
     ]
    }
   ],
   "source": [
    "import statsmodels.api as sm\n",
    "\n",
    "# Creating a new DataFrame with relevant columns\n",
    "df_regression = df[['Performance rating', 'Tenure', 'Gender', 'Salary']].dropna()\n",
    "\n",
    "# Encoding categorical variables\n",
    "df_regression['Gender'] = df_regression['Gender'].astype('category').cat.codes\n",
    "\n",
    "# Defining the independent variables (X) and the dependent variable (y)\n",
    "X = df_regression[['Performance rating', 'Tenure', 'Gender']]\n",
    "y = df_regression['Salary']\n",
    "\n",
    "# Adding a constant to the independent variables matrix (for the intercept term)\n",
    "X = sm.add_constant(X)\n",
    "\n",
    "# Performing the regression\n",
    "model = sm.OLS(y, X).fit()\n",
    "\n",
    "# Printing the summary of the regression results\n",
    "print(model.summary())"
   ]
  },
  {
   "cell_type": "markdown",
   "metadata": {},
   "source": [
    "With these results, we can see that both performance rating and tenure have a high p-value number and gender has a p value of 0. This means that Gender is statistically significant to determine pay, while performance rating and tenure are not.\n",
    "\n",
    "This shows that this organization would not be able to explain its pay discrepancy with tenure or performance rating, and therefore we would need to look for other suitable explanations or an investigator would find cause in a complaint and we would be in trouble.\n",
    "\n",
    "The recommended course of action here is to fix the pay discrepancies before a complaint is filed."
   ]
  },
  {
   "cell_type": "code",
   "execution_count": 116,
   "metadata": {},
   "outputs": [
    {
     "name": "stdout",
     "output_type": "stream",
     "text": [
      "                            OLS Regression Results                            \n",
      "==============================================================================\n",
      "Dep. Variable:                 Salary   R-squared:                       0.005\n",
      "Model:                            OLS   Adj. R-squared:                  0.004\n",
      "Method:                 Least Squares   F-statistic:                     70.71\n",
      "Date:                Fri, 24 May 2024   Prob (F-statistic):           1.28e-45\n",
      "Time:                        23:36:54   Log-Likelihood:            -5.1824e+05\n",
      "No. Observations:               46719   AIC:                         1.036e+06\n",
      "Df Residuals:                   46715   BIC:                         1.037e+06\n",
      "Df Model:                           3                                         \n",
      "Covariance Type:            nonrobust                                         \n",
      "======================================================================================\n",
      "                         coef    std err          t      P>|t|      [0.025      0.975]\n",
      "--------------------------------------------------------------------------------------\n",
      "const               6.013e+04    267.295    224.949      0.000    5.96e+04    6.07e+04\n",
      "Performance rating   -47.0279     52.234     -0.900      0.368    -149.407      55.351\n",
      "Tenure                -5.7403      8.784     -0.653      0.513     -22.957      11.477\n",
      "Race                 753.2059     51.860     14.524      0.000     651.560     854.852\n",
      "==============================================================================\n",
      "Omnibus:                       23.228   Durbin-Watson:                   2.000\n",
      "Prob(Omnibus):                  0.000   Jarque-Bera (JB):               23.262\n",
      "Skew:                           0.052   Prob(JB):                     8.88e-06\n",
      "Kurtosis:                       3.032   Cond. No.                         64.9\n",
      "==============================================================================\n",
      "\n",
      "Notes:\n",
      "[1] Standard Errors assume that the covariance matrix of the errors is correctly specified.\n"
     ]
    }
   ],
   "source": [
    "# Creating a new DataFrame with relevant columns\n",
    "df_regression_race = df[['Performance rating', 'Tenure', 'Race', 'Salary']].dropna()\n",
    "\n",
    "# Encoding categorical variables\n",
    "df_regression_race['Race'] = df_regression_race['Race'].astype('category').cat.codes\n",
    "\n",
    "# Defining the independent variables (X) and the dependent variable (y)\n",
    "X_race = df_regression_race[['Performance rating', 'Tenure', 'Race']]\n",
    "y_race = df_regression_race['Salary']\n",
    "\n",
    "# Adding a constant to the independent variables matrix (for the intercept term)\n",
    "X_race = sm.add_constant(X_race)\n",
    "\n",
    "# Performing the regression\n",
    "model_race = sm.OLS(y_race, X_race).fit()\n",
    "\n",
    "# Printing the summary of the regression results\n",
    "print(model_race.summary())"
   ]
  },
  {
   "cell_type": "markdown",
   "metadata": {},
   "source": [
    "Again, differences by race are statistically significant and tenure and performance rating are not able to justify the differences in pay by different races."
   ]
  },
  {
   "cell_type": "markdown",
   "metadata": {},
   "source": [
    "## Fixing pay discrepancies: determining required budget and populations to receive"
   ]
  },
  {
   "cell_type": "code",
   "execution_count": 117,
   "metadata": {},
   "outputs": [
    {
     "name": "stdout",
     "output_type": "stream",
     "text": [
      "Gender coefficient: 3222.1302911872363\n",
      "Total adjustment cost to ensure pay equity (males vs females): $50094459.64\n",
      "Total adjustment cost as a percentage of total payroll cost: 1.72%\n"
     ]
    }
   ],
   "source": [
    "# Retrieve the gender coefficient from the regression model\n",
    "gender_coefficient = model.params['Gender']\n",
    "print('Gender coefficient:',gender_coefficient)\n",
    "\n",
    "total_adjustment_cost = percFemales * TotalHC * gender_coefficient\n",
    "\n",
    "print(f\"Total adjustment cost to ensure pay equity (males vs females): ${total_adjustment_cost:.2f}\")\n",
    "total_cost_percentage_payroll = total_adjustment_cost/df['Salary'].sum()*100\n",
    "\n",
    "print(f'Total adjustment cost as a percentage of total payroll cost: {total_cost_percentage_payroll:.2f}%')"
   ]
  },
  {
   "cell_type": "markdown",
   "metadata": {},
   "source": [
    "In this case, we would suggest applying a $50M total increase for females in the organization, which means 1.7% of the payroll. This could mean giving each female a $3k increase, or distribute this among the population looking at performance ratings, tenure, compa-ratio, etc and then running the model again. For simplicity in this case, I'm going to take a peanut butter spread approach."
   ]
  },
  {
   "cell_type": "code",
   "execution_count": 118,
   "metadata": {},
   "outputs": [],
   "source": [
    "df_adj = df.copy()\n",
    "df_adj['Salary'] = numpy.where(df_adj['Gender']=='Female',df_adj['Salary']+gender_coefficient,df_adj['Salary'])"
   ]
  },
  {
   "cell_type": "code",
   "execution_count": 119,
   "metadata": {},
   "outputs": [
    {
     "name": "stdout",
     "output_type": "stream",
     "text": [
      "Median Salaries by Gender\n",
      "Female : 63273.98029118723\n",
      "Male : 63116.4353\n"
     ]
    }
   ],
   "source": [
    "median_by_demographics(df_adj,'Gender')"
   ]
  },
  {
   "cell_type": "code",
   "execution_count": 120,
   "metadata": {},
   "outputs": [
    {
     "data": {
      "text/plain": [
       "Power_divergenceResult(statistic=0.6067189838278131, pvalue=0.8948925076128004)"
      ]
     },
     "execution_count": 120,
     "metadata": {},
     "output_type": "execute_result"
    }
   ],
   "source": [
    "median_salary = df_adj['Salary'].median()\n",
    "percMales = len(df_adj[df_adj['Gender']=='Male'])/len(df_adj)\n",
    "percFemales = len(df_adj[df_adj['Gender']=='Female'])/len(df_adj)\n",
    "TotalHC = len(df_adj)\n",
    "le_median = len(df_adj[df_adj['Salary'] <= median_salary])\n",
    "gt_median = len(df_adj[df_adj['Salary'] > median_salary])\n",
    "exp_F_le_median = percFemales * le_median\n",
    "exp_F_gt_median = percFemales * gt_median\n",
    "exp_M_le_median = percMales * le_median\n",
    "exp_M_gt_median = percMales * gt_median\n",
    "obs_F_le_median = len(df_adj[(df_adj['Gender']=='Female') & (df_adj['Salary'] <= median_salary)])\n",
    "obs_F_gt_median = len(df_adj[(df_adj['Gender']=='Female') & (df_adj['Salary'] > median_salary)])\n",
    "obs_M_le_median = len(df_adj[(df_adj['Gender']=='Male') & (df_adj['Salary'] <= median_salary)])\n",
    "obs_M_gt_median = len(df_adj[(df_adj['Gender']=='Male') & (df_adj['Salary'] > median_salary)])\n",
    "expected = [exp_F_le_median,exp_F_gt_median,exp_M_le_median,exp_M_gt_median]\n",
    "observed = [obs_F_le_median,obs_F_gt_median,obs_M_le_median,obs_M_gt_median]\n",
    "scipy.stats.chisquare(f_obs=observed,f_exp=expected)"
   ]
  },
  {
   "cell_type": "markdown",
   "metadata": {},
   "source": [
    "Now we see that the median for Females is $200 higher than Males, but the new p_value for the chi-square test is now almost 90%, which means the difference is not statistically significant. There's no need to run another regression to look at the coefficients."
   ]
  },
  {
   "cell_type": "code",
   "execution_count": 121,
   "metadata": {},
   "outputs": [
    {
     "data": {
      "text/plain": [
       "Power_divergenceResult(statistic=415.96969165204933, pvalue=5.3472486484965875e-84)"
      ]
     },
     "execution_count": 121,
     "metadata": {},
     "output_type": "execute_result"
    }
   ],
   "source": [
    "df_adj['Position'] = numpy.where(df_adj['Salary'] > median_salary,'Greater than Median','Below or at median')\n",
    "races_observed = pandas.pivot_table(df_adj,index='Position',values='Gender',aggfunc='count',columns='Race').to_numpy()\n",
    "expecteddf = pandas.pivot_table(df_adj,index='Position',values='Gender',aggfunc='count',columns='Race')\n",
    "races_expected_below = []\n",
    "races_expected_above = []\n",
    "for race in expecteddf.columns:\n",
    "    races_expected_below.append((len(df_adj[df_adj['Race']==race])/len(df_adj))*le_median)\n",
    "    races_expected_above.append((len(df_adj[df_adj['Race']==race])/len(df_adj))*gt_median)    \n",
    "\n",
    "races_expected_list = [races_expected_below,races_expected_above]\n",
    "scipy.stats.chisquare(f_obs=races_observed,f_exp=races_expected_list,axis=None)"
   ]
  },
  {
   "cell_type": "markdown",
   "metadata": {},
   "source": [
    "After adjusting for Females, the race issue remains. Running the regression again to get the coefficient for race"
   ]
  },
  {
   "cell_type": "code",
   "execution_count": 122,
   "metadata": {},
   "outputs": [
    {
     "name": "stdout",
     "output_type": "stream",
     "text": [
      "                            OLS Regression Results                            \n",
      "==============================================================================\n",
      "Dep. Variable:                 Salary   R-squared:                       0.005\n",
      "Model:                            OLS   Adj. R-squared:                  0.005\n",
      "Method:                 Least Squares   F-statistic:                     71.88\n",
      "Date:                Fri, 24 May 2024   Prob (F-statistic):           2.23e-46\n",
      "Time:                        23:36:54   Log-Likelihood:            -5.1802e+05\n",
      "No. Observations:               46719   AIC:                         1.036e+06\n",
      "Df Residuals:                   46715   BIC:                         1.036e+06\n",
      "Df Model:                           3                                         \n",
      "Covariance Type:            nonrobust                                         \n",
      "======================================================================================\n",
      "                         coef    std err          t      P>|t|      [0.025      0.975]\n",
      "--------------------------------------------------------------------------------------\n",
      "const                6.12e+04    266.069    230.002      0.000    6.07e+04    6.17e+04\n",
      "Performance rating   -43.0701     51.994     -0.828      0.407    -144.979      58.839\n",
      "Tenure                -6.8131      8.744     -0.779      0.436     -23.951      10.325\n",
      "Race                 755.8672     51.622     14.642      0.000     654.687     857.047\n",
      "==============================================================================\n",
      "Omnibus:                       12.903   Durbin-Watson:                   2.000\n",
      "Prob(Omnibus):                  0.002   Jarque-Bera (JB):               12.909\n",
      "Skew:                           0.038   Prob(JB):                      0.00157\n",
      "Kurtosis:                       3.029   Cond. No.                         64.9\n",
      "==============================================================================\n",
      "\n",
      "Notes:\n",
      "[1] Standard Errors assume that the covariance matrix of the errors is correctly specified.\n"
     ]
    }
   ],
   "source": [
    "# Creating a new DataFrame with relevant columns\n",
    "df_adj_regression_race = df_adj[['Performance rating', 'Tenure', 'Race', 'Salary']].dropna()\n",
    "\n",
    "# Encoding categorical variables\n",
    "df_adj_regression_race['Race'] = df_adj_regression_race['Race'].astype('category').cat.codes\n",
    "\n",
    "# Defining the independent variables (X) and the dependent variable (y)\n",
    "X_race = df_adj_regression_race[['Performance rating', 'Tenure', 'Race']]\n",
    "y_race = df_adj_regression_race['Salary']\n",
    "\n",
    "# Adding a constant to the independent variables matrix (for the intercept term)\n",
    "X_race = sm.add_constant(X_race)\n",
    "\n",
    "# Performing the regression\n",
    "model_race = sm.OLS(y_race, X_race).fit()\n",
    "\n",
    "# Printing the summary of the regression results\n",
    "print(model_race.summary())"
   ]
  },
  {
   "cell_type": "code",
   "execution_count": 123,
   "metadata": {},
   "outputs": [
    {
     "name": "stdout",
     "output_type": "stream",
     "text": [
      "Race coefficient: 755.8671841039402\n",
      "Total adjustment cost to ensure pay equity (non-whites vs whites): $14015289.33\n",
      "Total adjustment cost as a percentage of total payroll cost: 0.48%\n"
     ]
    }
   ],
   "source": [
    "# Retrieve the race coefficient from the regression model\n",
    "Race_coefficient = model_race.params['Race']\n",
    "print('Race coefficient:',Race_coefficient)\n",
    "\n",
    "total_adjustment_cost = len(df[df['Race']!='White']) * Race_coefficient\n",
    "\n",
    "print(f\"Total adjustment cost to ensure pay equity (non-whites vs whites): ${total_adjustment_cost:.2f}\")\n",
    "total_cost_percentage_payroll = total_adjustment_cost/df['Salary'].sum()*100\n",
    "\n",
    "print(f'Total adjustment cost as a percentage of total payroll cost: {total_cost_percentage_payroll:.2f}%')"
   ]
  },
  {
   "cell_type": "code",
   "execution_count": 124,
   "metadata": {},
   "outputs": [
    {
     "name": "stdout",
     "output_type": "stream",
     "text": [
      "\n",
      "Median Salaries by Race\n",
      "Black : 58563.37908410394\n",
      "White : 64033.34\n",
      "Hispanic : 63660.522079697555\n",
      "Other : 63816.57458410394\n",
      "Asian : 64437.11598410394\n"
     ]
    },
    {
     "data": {
      "text/plain": [
       "Power_divergenceResult(statistic=324.19325152153823, pvalue=1.9068429392793475e-64)"
      ]
     },
     "execution_count": 124,
     "metadata": {},
     "output_type": "execute_result"
    }
   ],
   "source": [
    "df_readj = df_adj.copy()\n",
    "print()\n",
    "df_readj['Salary'] = numpy.where(df_readj['Race']!='White',df_readj['Salary']+Race_coefficient,df_readj['Salary'])\n",
    "\n",
    "median_by_demographics(df_readj,'Race')\n",
    "\n",
    "median_salary = df_readj['Salary'].median()\n",
    "le_median = len(df_readj[df_readj['Salary'] <= median_salary])\n",
    "gt_median = len(df_readj[df_readj['Salary'] > median_salary])\n",
    "\n",
    "df_readj['Position'] = numpy.where(df_readj['Salary'] > median_salary,'Greater than Median','Below or at median')\n",
    "races_observed = pandas.pivot_table(df_readj,index='Position',values='Gender',aggfunc='count',columns='Race').to_numpy()\n",
    "expecteddf = pandas.pivot_table(df_readj,index='Position',values='Gender',aggfunc='count',columns='Race')\n",
    "races_expected_below = []\n",
    "races_expected_above = []\n",
    "for race in expecteddf.columns:\n",
    "    races_expected_below.append((len(df_readj[df_readj['Race']==race])/len(df_readj))*le_median)\n",
    "    races_expected_above.append((len(df_readj[df_readj['Race']==race])/len(df_readj))*gt_median)    \n",
    "\n",
    "races_expected_list = [races_expected_below,races_expected_above]\n",
    "scipy.stats.chisquare(f_obs=races_observed,f_exp=races_expected_list,axis=None)"
   ]
  },
  {
   "cell_type": "code",
   "execution_count": 125,
   "metadata": {},
   "outputs": [
    {
     "name": "stdout",
     "output_type": "stream",
     "text": [
      "                            OLS Regression Results                            \n",
      "==============================================================================\n",
      "Dep. Variable:                 Salary   R-squared:                       0.002\n",
      "Model:                            OLS   Adj. R-squared:                  0.002\n",
      "Method:                 Least Squares   F-statistic:                     35.56\n",
      "Date:                Fri, 24 May 2024   Prob (F-statistic):           6.00e-23\n",
      "Time:                        23:36:54   Log-Likelihood:            -5.1801e+05\n",
      "No. Observations:               46719   AIC:                         1.036e+06\n",
      "Df Residuals:                   46715   BIC:                         1.036e+06\n",
      "Df Model:                           3                                         \n",
      "Covariance Type:            nonrobust                                         \n",
      "======================================================================================\n",
      "                         coef    std err          t      P>|t|      [0.025      0.975]\n",
      "--------------------------------------------------------------------------------------\n",
      "const               6.218e+04    266.005    233.752      0.000    6.17e+04    6.27e+04\n",
      "Performance rating   -43.7640     51.982     -0.842      0.400    -145.649      58.121\n",
      "Tenure                -6.9534      8.742     -0.795      0.426     -24.087      10.180\n",
      "Race                 529.7878     51.610     10.265      0.000     428.632     630.943\n",
      "==============================================================================\n",
      "Omnibus:                       12.472   Durbin-Watson:                   1.999\n",
      "Prob(Omnibus):                  0.002   Jarque-Bera (JB):               12.476\n",
      "Skew:                           0.038   Prob(JB):                      0.00195\n",
      "Kurtosis:                       3.028   Cond. No.                         64.9\n",
      "==============================================================================\n",
      "\n",
      "Notes:\n",
      "[1] Standard Errors assume that the covariance matrix of the errors is correctly specified.\n"
     ]
    }
   ],
   "source": [
    "# Creating a new DataFrame with relevant columns\n",
    "df_readj_regression_race = df_readj[['Performance rating', 'Tenure', 'Race', 'Salary']].dropna()\n",
    "\n",
    "# Encoding categorical variables\n",
    "df_readj_regression_race['Race'] = df_readj_regression_race['Race'].astype('category').cat.codes\n",
    "\n",
    "# Defining the independent variables (X) and the dependent variable (y)\n",
    "X_race = df_readj_regression_race[['Performance rating', 'Tenure', 'Race']]\n",
    "y_race = df_readj_regression_race['Salary']\n",
    "\n",
    "# Adding a constant to the independent variables matrix (for the intercept term)\n",
    "X_race = sm.add_constant(X_race)\n",
    "\n",
    "# Performing the regression\n",
    "model_race = sm.OLS(y_race, X_race).fit()\n",
    "\n",
    "# Printing the summary of the regression results\n",
    "print(model_race.summary())"
   ]
  },
  {
   "cell_type": "markdown",
   "metadata": {},
   "source": [
    "The problem persists, but only for blacks now. At least the coefficient is much lower, with only $303. Applying this to the black population: "
   ]
  },
  {
   "cell_type": "code",
   "execution_count": 126,
   "metadata": {},
   "outputs": [
    {
     "name": "stdout",
     "output_type": "stream",
     "text": [
      "Race coefficient: 529.7877658319272\n",
      "Total adjustment cost to ensure pay equity (Blacks vs non-Blacks): $2450798.20\n",
      "Total adjustment cost as a percentage of total payroll cost: 0.08%\n"
     ]
    }
   ],
   "source": [
    "# Retrieve the race coefficient from the regression model\n",
    "Race_coefficient = model_race.params['Race']\n",
    "print('Race coefficient:',Race_coefficient)\n",
    "\n",
    "total_adjustment_cost = len(df[df['Race']=='Black']) * Race_coefficient\n",
    "\n",
    "print(f\"Total adjustment cost to ensure pay equity (Blacks vs non-Blacks): ${total_adjustment_cost:.2f}\")\n",
    "total_cost_percentage_payroll = total_adjustment_cost/df['Salary'].sum()*100\n",
    "\n",
    "print(f'Total adjustment cost as a percentage of total payroll cost: {total_cost_percentage_payroll:.2f}%')"
   ]
  },
  {
   "cell_type": "code",
   "execution_count": 152,
   "metadata": {},
   "outputs": [
    {
     "name": "stdout",
     "output_type": "stream",
     "text": [
      "Median Salaries by Race\n",
      "Black : 63066.57509367532\n",
      "White : 64033.34\n",
      "Hispanic : 63660.522079697555\n",
      "Other : 63816.57458410394\n",
      "Asian : 64437.11598410394\n",
      "\n",
      "\n",
      "Median Salaries by Gender\n",
      "Female : 63996.250291187236\n",
      "Male : 63871.48328410394\n"
     ]
    }
   ],
   "source": [
    "df_readj2 = df_readj.copy()\n",
    "\n",
    "df_readj2['Salary'] = numpy.where(df_readj2['Race']=='Black',df_readj2['Salary']+Race_coefficient*8.5,df_readj2['Salary'])\n",
    "\n",
    "\n",
    "median_salary = df_readj2['Salary'].median()\n",
    "le_median = len(df_readj2[df_readj2['Salary'] <= median_salary])\n",
    "gt_median = len(df_readj2[df_readj2['Salary'] > median_salary])\n",
    "\n",
    "median_by_demographics(df_readj2,'Race')\n",
    "\n",
    "df_readj2['Position'] = numpy.where(df_readj2['Salary'] > median_salary,'Greater than Median','Below or at median')\n",
    "races_observed = pandas.pivot_table(df_readj2,index='Position',values='Gender',aggfunc='count',columns='Race').to_numpy()\n",
    "expecteddf = pandas.pivot_table(df_readj2,index='Position',values='Gender',aggfunc='count',columns='Race')\n",
    "races_expected_below = []\n",
    "races_expected_above = []\n",
    "for race in expecteddf.columns:\n",
    "    races_expected_below.append((len(df_readj2[df_readj2['Race']==race])/len(df_readj2))*le_median)\n",
    "    races_expected_above.append((len(df_readj2[df_readj2['Race']==race])/len(df_readj2))*gt_median)    \n",
    "\n",
    "races_expected_list = [races_expected_below,races_expected_above]\n",
    "scipy.stats.chisquare(f_obs=races_observed,f_exp=races_expected_list,axis=None)\n",
    "print('\\n')\n",
    "median_by_demographics(df_readj2,'Gender')"
   ]
  },
  {
   "cell_type": "code",
   "execution_count": 147,
   "metadata": {},
   "outputs": [],
   "source": [
    "total_budget_perc = (df_readj2['Salary'].sum() - df['Salary'].sum())/df['Salary'].sum()*100"
   ]
  },
  {
   "cell_type": "code",
   "execution_count": 149,
   "metadata": {},
   "outputs": [
    {
     "name": "stdout",
     "output_type": "stream",
     "text": [
      "Total budget as percent of current payroll: 2.92%\n"
     ]
    }
   ],
   "source": [
    "print(f'Total budget as percent of current payroll: {total_budget_perc:.2f}%')"
   ]
  },
  {
   "cell_type": "code",
   "execution_count": 154,
   "metadata": {},
   "outputs": [],
   "source": [
    "df_increases = df.copy()\n",
    "df_increases['New Salary'] = df_readj2['Salary']"
   ]
  },
  {
   "cell_type": "code",
   "execution_count": 157,
   "metadata": {},
   "outputs": [],
   "source": [
    "df_increases = df_increases[['Gender','Race','Salary','New Salary']]"
   ]
  },
  {
   "cell_type": "code",
   "execution_count": 158,
   "metadata": {},
   "outputs": [
    {
     "name": "stderr",
     "output_type": "stream",
     "text": [
      "C:\\Users\\Jackson_Aquino\\AppData\\Local\\Temp\\ipykernel_25316\\2745548848.py:1: SettingWithCopyWarning: \n",
      "A value is trying to be set on a copy of a slice from a DataFrame.\n",
      "Try using .loc[row_indexer,col_indexer] = value instead\n",
      "\n",
      "See the caveats in the documentation: https://pandas.pydata.org/pandas-docs/stable/user_guide/indexing.html#returning-a-view-versus-a-copy\n",
      "  df_increases['Inc Percentage'] = df_increases['New Salary']/df_increases['Salary']-1\n"
     ]
    }
   ],
   "source": [
    "df_increases['Inc Percentage'] = df_increases['New Salary']/df_increases['Salary']-1"
   ]
  },
  {
   "cell_type": "code",
   "execution_count": 161,
   "metadata": {},
   "outputs": [
    {
     "data": {
      "text/html": [
       "<div>\n",
       "<style scoped>\n",
       "    .dataframe tbody tr th:only-of-type {\n",
       "        vertical-align: middle;\n",
       "    }\n",
       "\n",
       "    .dataframe tbody tr th {\n",
       "        vertical-align: top;\n",
       "    }\n",
       "\n",
       "    .dataframe thead tr th {\n",
       "        text-align: left;\n",
       "    }\n",
       "\n",
       "    .dataframe thead tr:last-of-type th {\n",
       "        text-align: right;\n",
       "    }\n",
       "</style>\n",
       "<table border=\"1\" class=\"dataframe\">\n",
       "  <thead>\n",
       "    <tr>\n",
       "      <th></th>\n",
       "      <th></th>\n",
       "      <th>mean</th>\n",
       "      <th>count</th>\n",
       "    </tr>\n",
       "    <tr>\n",
       "      <th></th>\n",
       "      <th></th>\n",
       "      <th>Inc Percentage</th>\n",
       "      <th>Inc Percentage</th>\n",
       "    </tr>\n",
       "    <tr>\n",
       "      <th>Gender</th>\n",
       "      <th>Race</th>\n",
       "      <th></th>\n",
       "      <th></th>\n",
       "    </tr>\n",
       "  </thead>\n",
       "  <tbody>\n",
       "    <tr>\n",
       "      <th rowspan=\"5\" valign=\"top\">Female</th>\n",
       "      <th>Asian</th>\n",
       "      <td>0.071411</td>\n",
       "      <td>1546</td>\n",
       "    </tr>\n",
       "    <tr>\n",
       "      <th>Black</th>\n",
       "      <td>0.166834</td>\n",
       "      <td>1554</td>\n",
       "    </tr>\n",
       "    <tr>\n",
       "      <th>Hispanic</th>\n",
       "      <td>0.072620</td>\n",
       "      <td>1528</td>\n",
       "    </tr>\n",
       "    <tr>\n",
       "      <th>Other</th>\n",
       "      <td>0.072367</td>\n",
       "      <td>1524</td>\n",
       "    </tr>\n",
       "    <tr>\n",
       "      <th>White</th>\n",
       "      <td>0.057373</td>\n",
       "      <td>9395</td>\n",
       "    </tr>\n",
       "    <tr>\n",
       "      <th rowspan=\"5\" valign=\"top\">Male</th>\n",
       "      <th>Asian</th>\n",
       "      <td>0.012905</td>\n",
       "      <td>3199</td>\n",
       "    </tr>\n",
       "    <tr>\n",
       "      <th>Black</th>\n",
       "      <td>0.098457</td>\n",
       "      <td>3072</td>\n",
       "    </tr>\n",
       "    <tr>\n",
       "      <th>Hispanic</th>\n",
       "      <td>0.012971</td>\n",
       "      <td>3034</td>\n",
       "    </tr>\n",
       "    <tr>\n",
       "      <th>Other</th>\n",
       "      <td>0.013139</td>\n",
       "      <td>3085</td>\n",
       "    </tr>\n",
       "    <tr>\n",
       "      <th>White</th>\n",
       "      <td>0.000000</td>\n",
       "      <td>18782</td>\n",
       "    </tr>\n",
       "  </tbody>\n",
       "</table>\n",
       "</div>"
      ],
      "text/plain": [
       "                          mean          count\n",
       "                Inc Percentage Inc Percentage\n",
       "Gender Race                                  \n",
       "Female Asian          0.071411           1546\n",
       "       Black          0.166834           1554\n",
       "       Hispanic       0.072620           1528\n",
       "       Other          0.072367           1524\n",
       "       White          0.057373           9395\n",
       "Male   Asian          0.012905           3199\n",
       "       Black          0.098457           3072\n",
       "       Hispanic       0.012971           3034\n",
       "       Other          0.013139           3085\n",
       "       White          0.000000          18782"
      ]
     },
     "execution_count": 161,
     "metadata": {},
     "output_type": "execute_result"
    }
   ],
   "source": [
    "pandas.pivot_table(df_increases,values='Inc Percentage',aggfunc=['mean','count'],index=['Gender','Race'])"
   ]
  },
  {
   "cell_type": "markdown",
   "metadata": {},
   "source": [
    "## Conclusion"
   ]
  },
  {
   "cell_type": "markdown",
   "metadata": {},
   "source": [
    "In this case, with 2.9% of the payroll, which is a normal amount for annual budget on salary increases in modern organizations, we would be able to solve all the pay equity issues. However, as this organization has very serious issues with pay equity, white males, who are the majority of the population would get a 0% increase, which is probably not realistic and could trigger complaints about reverse discrimination. In this case, we could take a phased approach and solve half of the problem this year and then the other half on the next year, or go to senior management with a case on how much it would cost if we had litigation cases based on pay discrimination and then try to get extra budget to fix it all this year."
   ]
  }
 ],
 "metadata": {
  "kernelspec": {
   "display_name": "Python 3",
   "language": "python",
   "name": "python3"
  },
  "language_info": {
   "codemirror_mode": {
    "name": "ipython",
    "version": 3
   },
   "file_extension": ".py",
   "mimetype": "text/x-python",
   "name": "python",
   "nbconvert_exporter": "python",
   "pygments_lexer": "ipython3",
   "version": "3.10.5"
  }
 },
 "nbformat": 4,
 "nbformat_minor": 2
}
